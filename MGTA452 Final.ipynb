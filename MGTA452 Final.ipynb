{
 "cells": [
  {
   "cell_type": "code",
   "execution_count": 1,
   "metadata": {},
   "outputs": [
    {
     "data": {
      "text/plain": [
       "{'customer_train': {'num_records': 700,\n",
       "  'columns': ['CustomerID', 'Age', 'Gender', 'Income'],\n",
       "  'preview':    CustomerID  Age  Gender        Income\n",
       "  0         656   58       0  44508.143303\n",
       "  1         955   67       1  48992.269646\n",
       "  2         916   66       0  63177.578696\n",
       "  3          25   67       0  39584.587489\n",
       "  4         735   21       0  39124.256687},\n",
       " 'customer_test': {'num_records': 300,\n",
       "  'columns': ['CustomerID', 'Age', 'Gender', 'Income'],\n",
       "  'preview':    CustomerID  Age  Gender        Income\n",
       "  0         260   59       1  52759.238749\n",
       "  1         914   69       1  35171.285170\n",
       "  2         931   68       0  53297.369235\n",
       "  3         498   28       1  67622.548744\n",
       "  4         949   37       1  27496.347582},\n",
       " 'trip_train': {'num_records': 13952,\n",
       "  'columns': ['CustomerID', 'Season', 'Brand', 'Dining', 'Spa', 'Rooms'],\n",
       "  'preview':    CustomerID  Season  Brand      Dining         Spa       Rooms\n",
       "  0           3       1      0  226.574587  346.373250  396.653659\n",
       "  1           6       1      1  212.490223  376.675931  476.037242\n",
       "  2           6       1      1  136.760428  243.204520  427.392403\n",
       "  3           6       1      1  150.504121  322.464757  410.980904\n",
       "  4           6       0      1  212.490223  376.675931  476.037242},\n",
       " 'trip_test': {'num_records': 5854,\n",
       "  'columns': ['CustomerID', 'Season', 'Brand', 'Dining', 'Spa', 'Rooms'],\n",
       "  'preview':    CustomerID  Season  Brand      Dining         Spa       Rooms\n",
       "  0           1       1      0  191.391487  337.684247  435.069521\n",
       "  1           1       1      0  209.878476  289.019695  392.322098\n",
       "  2           1       1      0  260.136078  356.970100  492.131128\n",
       "  3           1       1      0  239.347212  365.715425  520.804786\n",
       "  4           1       1      0  241.246124  388.885227  483.878320}}"
      ]
     },
     "execution_count": 1,
     "metadata": {},
     "output_type": "execute_result"
    }
   ],
   "source": [
    "import pandas as pd\n",
    "\n",
    "customer_train = pd.read_csv('/home/jovyan/MGTA452_Final-1/customer_train.csv')\n",
    "customer_test = pd.read_csv('/home/jovyan/MGTA452_Final-1/customer_test.csv')\n",
    "trip_train = pd.read_csv('/home/jovyan/MGTA452_Final-1/trip_train.csv')\n",
    "trip_test = pd.read_csv('/home/jovyan/MGTA452_Final-1/trip_test.csv')\n",
    "\n",
    "summary = {\n",
    "    \"customer_train\": {\n",
    "        \"num_records\": customer_train.shape[0],\n",
    "        \"columns\": customer_train.columns.tolist(),\n",
    "        \"preview\": customer_train.head()\n",
    "    },\n",
    "    \"customer_test\": {\n",
    "        \"num_records\": customer_test.shape[0],\n",
    "        \"columns\": customer_test.columns.tolist(),\n",
    "        \"preview\": customer_test.head()\n",
    "    },\n",
    "    \"trip_train\": {\n",
    "        \"num_records\": trip_train.shape[0],\n",
    "        \"columns\": trip_train.columns.tolist(),\n",
    "        \"preview\": trip_train.head()\n",
    "    },\n",
    "    \"trip_test\": {\n",
    "        \"num_records\": trip_test.shape[0],\n",
    "        \"columns\": trip_test.columns.tolist(),\n",
    "        \"preview\": trip_test.head()\n",
    "    }\n",
    "}\n",
    "\n",
    "summary\n"
   ]
  },
  {
   "cell_type": "code",
   "execution_count": 2,
   "metadata": {},
   "outputs": [
    {
     "data": {
      "text/plain": [
       "352"
      ]
     },
     "execution_count": 2,
     "metadata": {},
     "output_type": "execute_result"
    }
   ],
   "source": [
    "num_female_customers = customer_train[customer_train['Gender'] == 1].shape[0]\n",
    "num_female_customers\n"
   ]
  },
  {
   "cell_type": "code",
   "execution_count": 3,
   "metadata": {},
   "outputs": [
    {
     "data": {
      "text/plain": [
       "44"
      ]
     },
     "execution_count": 3,
     "metadata": {},
     "output_type": "execute_result"
    }
   ],
   "source": [
    "average_age_female = customer_train[customer_train['Gender'] == 1]['Age'].mean()\n",
    "\n",
    "average_age_female_rounded = round(average_age_female)\n",
    "average_age_female_rounded\n"
   ]
  },
  {
   "cell_type": "code",
   "execution_count": 4,
   "metadata": {},
   "outputs": [
    {
     "data": {
      "text/plain": [
       "51411"
      ]
     },
     "execution_count": 4,
     "metadata": {},
     "output_type": "execute_result"
    }
   ],
   "source": [
    "average_income_female = customer_train[customer_train['Gender'] == 1]['Income'].mean()\n",
    "\n",
    "average_income_female_rounded = round(average_income_female)\n",
    "average_income_female_rounded\n"
   ]
  },
  {
   "cell_type": "code",
   "execution_count": 5,
   "metadata": {},
   "outputs": [
    {
     "data": {
      "text/plain": [
       "273"
      ]
     },
     "execution_count": 5,
     "metadata": {},
     "output_type": "execute_result"
    }
   ],
   "source": [
    "average_dining_high_season = trip_train[trip_train['Season'] == 1]['Dining'].mean()\n",
    "\n",
    "average_dining_high_season_rounded = round(average_dining_high_season)\n",
    "average_dining_high_season_rounded\n"
   ]
  },
  {
   "cell_type": "code",
   "execution_count": 6,
   "metadata": {},
   "outputs": [
    {
     "data": {
      "text/plain": [
       "24"
      ]
     },
     "execution_count": 6,
     "metadata": {},
     "output_type": "execute_result"
    }
   ],
   "source": [
    "average_room_upscale_low_season = trip_train[(trip_train['Season'] == 0) & (trip_train['Brand'] == 1)]['Rooms'].mean()\n",
    "\n",
    "average_room_discount_low_season = trip_train[(trip_train['Season'] == 0) & (trip_train['Brand'] == 0)]['Rooms'].mean()\n",
    "\n",
    "difference_room_spending = average_room_upscale_low_season - average_room_discount_low_season\n",
    "\n",
    "difference_room_spending_rounded = round(difference_room_spending)\n",
    "difference_room_spending_rounded\n"
   ]
  },
  {
   "cell_type": "code",
   "execution_count": 7,
   "metadata": {},
   "outputs": [
    {
     "data": {
      "text/plain": [
       "497"
      ]
     },
     "execution_count": 7,
     "metadata": {},
     "output_type": "execute_result"
    }
   ],
   "source": [
    "merged_data = pd.merge(trip_train, customer_train, on='CustomerID')\n",
    "\n",
    "average_room_spending_female = merged_data[merged_data['Gender'] == 1]['Rooms'].mean()\n",
    "\n",
    "average_room_spending_female_rounded = round(average_room_spending_female)\n",
    "average_room_spending_female_rounded\n"
   ]
  },
  {
   "cell_type": "code",
   "execution_count": 8,
   "metadata": {},
   "outputs": [
    {
     "data": {
      "text/plain": [
       "992"
      ]
     },
     "execution_count": 8,
     "metadata": {},
     "output_type": "execute_result"
    }
   ],
   "source": [
    "average_total_spending_male_upscale_high = merged_data[(merged_data['Gender'] == 0) & (merged_data['Brand'] == 1) & (merged_data['Season'] == 1)].eval('Dining + Spa + Rooms').mean()\n",
    "\n",
    "average_total_spending_male_upscale_high_rounded = round(average_total_spending_male_upscale_high)\n",
    "average_total_spending_male_upscale_high_rounded\n"
   ]
  },
  {
   "cell_type": "code",
   "execution_count": 9,
   "metadata": {},
   "outputs": [
    {
     "data": {
      "text/plain": [
       "1"
      ]
     },
     "execution_count": 9,
     "metadata": {},
     "output_type": "execute_result"
    }
   ],
   "source": [
    "segment_a_criteria = (customer_train['Gender'] == 1) & (customer_train['Age'] == 50) & (customer_train['Income'] >= 60000)\n",
    "\n",
    "segment_a_customers = customer_train[segment_a_criteria]\n",
    "\n",
    "segment_a_trip_data = pd.merge(segment_a_customers, trip_train, on='CustomerID')\n",
    "\n",
    "segment_a_upscale_high_season = segment_a_trip_data[(segment_a_trip_data['Brand'] == 1) & (segment_a_trip_data['Season'] == 1)]\n",
    "\n",
    "num_customers_segment_a = segment_a_upscale_high_season['CustomerID'].nunique()\n",
    "num_customers_segment_a\n"
   ]
  },
  {
   "cell_type": "code",
   "execution_count": 10,
   "metadata": {},
   "outputs": [
    {
     "data": {
      "text/plain": [
       "1"
      ]
     },
     "execution_count": 10,
     "metadata": {},
     "output_type": "execute_result"
    }
   ],
   "source": [
    "segment_b_criteria = (customer_train['Gender'] == 1) & (customer_train['Age'] == 30) & (customer_train['Income'] >= 50000)\n",
    "\n",
    "segment_b_customers = customer_train[segment_b_criteria]\n",
    "\n",
    "segment_b_trip_data = pd.merge(segment_b_customers, trip_train, on='CustomerID')\n",
    "\n",
    "segment_b_upscale_high_season = segment_b_trip_data[(segment_b_trip_data['Brand'] == 1) & (segment_b_trip_data['Season'] == 1)]\n",
    "\n",
    "num_customers_segment_b = segment_b_upscale_high_season['CustomerID'].nunique()\n",
    "num_customers_segment_b\n"
   ]
  },
  {
   "cell_type": "markdown",
   "metadata": {},
   "source": [
    "\n",
    "I would say: \"Comparing the spending of just one customer in each segment (A and B) may not provide a reliable basis for decision-making. This approach risks drawing conclusions from an extremely limited sample size, which might not be representative of the broader segment. It would be more insightful to analyze a larger, more diverse sample from each segment to accurately assess their average spending and potential value to the hotel.\""
   ]
  },
  {
   "cell_type": "code",
   "execution_count": 11,
   "metadata": {},
   "outputs": [
    {
     "data": {
      "text/plain": [
       "89"
      ]
     },
     "execution_count": 11,
     "metadata": {},
     "output_type": "execute_result"
    }
   ],
   "source": [
    "from sklearn.linear_model import LinearRegression\n",
    "from sklearn.metrics import mean_squared_error\n",
    "from math import sqrt\n",
    "\n",
    "train_data = pd.merge(trip_train, customer_train, on='CustomerID')\n",
    "test_data = pd.merge(trip_test, customer_test, on='CustomerID')\n",
    "\n",
    "features = ['Season', 'Brand', 'Age', 'Income', 'Gender']\n",
    "target_dining = 'Dining'\n",
    "\n",
    "model_dining = LinearRegression()\n",
    "model_dining.fit(train_data[features], train_data[target_dining])\n",
    "\n",
    "# Predict on test data\n",
    "predictions_dining = model_dining.predict(test_data[features])\n",
    "\n",
    "rmse_dining = sqrt(mean_squared_error(test_data[target_dining], predictions_dining))\n",
    "rmse_dining_rounded = round(rmse_dining)\n",
    "rmse_dining_rounded\n"
   ]
  },
  {
   "cell_type": "code",
   "execution_count": 12,
   "metadata": {},
   "outputs": [
    {
     "data": {
      "text/plain": [
       "266"
      ]
     },
     "execution_count": 12,
     "metadata": {},
     "output_type": "execute_result"
    }
   ],
   "source": [
    "target_spa = 'Spa'\n",
    "target_rooms = 'Rooms'\n",
    "\n",
    "model_spa = LinearRegression()\n",
    "model_spa.fit(train_data[features], train_data[target_spa])\n",
    "\n",
    "predictions_spa = model_spa.predict(test_data[features])\n",
    "\n",
    "model_rooms = LinearRegression()\n",
    "model_rooms.fit(train_data[features], train_data[target_rooms])\n",
    "\n",
    "predictions_rooms = model_rooms.predict(test_data[features])\n",
    "\n",
    "total_predicted_spending = predictions_dining + predictions_spa + predictions_rooms\n",
    "\n",
    "total_actual_spending = test_data[target_dining] + test_data[target_spa] + test_data[target_rooms]\n",
    "\n",
    "rmse_total = sqrt(mean_squared_error(total_actual_spending, total_predicted_spending))\n",
    "rmse_total_rounded = round(rmse_total)\n",
    "rmse_total_rounded\n"
   ]
  },
  {
   "cell_type": "code",
   "execution_count": 13,
   "metadata": {},
   "outputs": [
    {
     "data": {
      "text/plain": [
       "266"
      ]
     },
     "execution_count": 13,
     "metadata": {},
     "output_type": "execute_result"
    }
   ],
   "source": [
    "train_data['TotalSpending'] = train_data[target_dining] + train_data[target_spa] + train_data[target_rooms]\n",
    "test_data['TotalSpending'] = test_data[target_dining] + test_data[target_spa] + test_data[target_rooms]\n",
    "\n",
    "target_total_spending = 'TotalSpending'\n",
    "\n",
    "model_total_spending = LinearRegression()\n",
    "model_total_spending.fit(train_data[features], train_data[target_total_spending])\n",
    "\n",
    "predictions_total_spending = model_total_spending.predict(test_data[features])\n",
    "\n",
    "rmse_total_spending = sqrt(mean_squared_error(test_data[target_total_spending], predictions_total_spending))\n",
    "rmse_total_spending_rounded = round(rmse_total_spending)\n",
    "rmse_total_spending_rounded\n"
   ]
  },
  {
   "cell_type": "markdown",
   "metadata": {},
   "source": [
    "The RMSE obtained in both Question 12 and Question 13 is the same, at 266 when rounded to the nearest integer. In Question 12, total spending was predicted by separately modeling and summing the predictions for Dining, Spa, and Rooms spending. In contrast, Question 13 involved directly modeling total spending as a single output. The identical RMSE in both approaches suggests that the aggregated error from the individual predictions of Dining, Spa, and Rooms in Question 12 closely matches the error from the direct prediction of total spending in Question 13. This outcome can occur when the errors in individual models (Dining, Spa, Rooms) are not significantly large or are possibly offsetting each other when summed, leading to a similar overall prediction accuracy for total spending as achieved by a single model predicting the total directly."
   ]
  },
  {
   "cell_type": "code",
   "execution_count": 14,
   "metadata": {},
   "outputs": [],
   "source": [
    "profit_margin_dining = 0.20 \n",
    "profit_margin_spa = 0.35     \n",
    "profit_margin_rooms = 0.25   "
   ]
  },
  {
   "cell_type": "code",
   "execution_count": 15,
   "metadata": {},
   "outputs": [
    {
     "data": {
      "text/plain": [
       "315"
      ]
     },
     "execution_count": 15,
     "metadata": {},
     "output_type": "execute_result"
    }
   ],
   "source": [
    "segment_1_features = pd.DataFrame({\n",
    "    'Season': [1], \n",
    "    'Brand': [1], \n",
    "    'Age': [30],\n",
    "    'Income': [50000],\n",
    "    'Gender': [1] \n",
    "})\n",
    "\n",
    "predicted_dining_1 = model_dining.predict(segment_1_features)[0]\n",
    "predicted_spa_1 = model_spa.predict(segment_1_features)[0]\n",
    "predicted_rooms_1 = model_rooms.predict(segment_1_features)[0]\n",
    "\n",
    "profit_segment_1 = (\n",
    "    predicted_dining_1 * profit_margin_dining + \n",
    "    predicted_spa_1 * profit_margin_spa + \n",
    "    predicted_rooms_1 * profit_margin_rooms\n",
    ")\n",
    "\n",
    "profit_segment_1_rounded = round(profit_segment_1)\n",
    "profit_segment_1_rounded\n"
   ]
  },
  {
   "cell_type": "code",
   "execution_count": 16,
   "metadata": {},
   "outputs": [
    {
     "data": {
      "text/plain": [
       "('Segment 2', 150)"
      ]
     },
     "execution_count": 16,
     "metadata": {},
     "output_type": "execute_result"
    }
   ],
   "source": [
    "segment_2_features = pd.DataFrame({\n",
    "    'Season': [1], \n",
    "    'Brand': [1], \n",
    "    'Age': [40],\n",
    "    'Income': [70000],\n",
    "    'Gender': [1] \n",
    "})\n",
    "\n",
    "segment_3_features = pd.DataFrame({\n",
    "    'Season': [1], \n",
    "    'Brand': [1], \n",
    "    'Age': [50],\n",
    "    'Income': [80000],\n",
    "    'Gender': [1] \n",
    "})\n",
    "\n",
    "predicted_dining_2 = model_dining.predict(segment_2_features)[0]\n",
    "predicted_spa_2 = model_spa.predict(segment_2_features)[0]\n",
    "predicted_rooms_2 = model_rooms.predict(segment_2_features)[0]\n",
    "\n",
    "predicted_dining_3 = model_dining.predict(segment_3_features)[0]\n",
    "predicted_spa_3 = model_spa.predict(segment_3_features)[0]\n",
    "predicted_rooms_3 = model_rooms.predict(segment_3_features)[0]\n",
    "\n",
    "profit_segment_2 = (\n",
    "    predicted_dining_2 * profit_margin_dining + \n",
    "    predicted_spa_2 * profit_margin_spa + \n",
    "    predicted_rooms_2 * profit_margin_rooms\n",
    ")\n",
    "\n",
    "profit_segment_3 = (\n",
    "    predicted_dining_3 * profit_margin_dining + \n",
    "    predicted_spa_3 * profit_margin_spa + \n",
    "    predicted_rooms_3 * profit_margin_rooms\n",
    ")\n",
    "\n",
    "targeting_costs = {\n",
    "    \"Segment 1\": 200,\n",
    "    \"Segment 2\": 300,\n",
    "    \"Segment 3\": 500\n",
    "}\n",
    "\n",
    "net_profit_segment_1 = profit_segment_1 - targeting_costs[\"Segment 1\"]\n",
    "net_profit_segment_2 = profit_segment_2 - targeting_costs[\"Segment 2\"]\n",
    "net_profit_segment_3 = profit_segment_3 - targeting_costs[\"Segment 3\"]\n",
    "\n",
    "best_segment = max(\n",
    "    (\"Segment 1\", net_profit_segment_1),\n",
    "    (\"Segment 2\", net_profit_segment_2),\n",
    "    (\"Segment 3\", net_profit_segment_3),\n",
    "    key=lambda segment: segment[1]\n",
    ")\n",
    "\n",
    "best_segment[0], round(best_segment[1])\n"
   ]
  },
  {
   "cell_type": "code",
   "execution_count": 17,
   "metadata": {},
   "outputs": [
    {
     "data": {
      "text/plain": [
       "211"
      ]
     },
     "execution_count": 17,
     "metadata": {},
     "output_type": "execute_result"
    }
   ],
   "source": [
    "train_data['Age_squared'] = train_data['Age'] ** 2\n",
    "train_data['Income_squared'] = train_data['Income'] ** 2\n",
    "test_data['Age_squared'] = test_data['Age'] ** 2\n",
    "test_data['Income_squared'] = test_data['Income'] ** 2\n",
    "\n",
    "updated_features = ['Season', 'Brand', 'Age', 'Income', 'Gender', 'Age_squared', 'Income_squared']\n",
    "\n",
    "model_dining_updated = LinearRegression()\n",
    "model_dining_updated.fit(train_data[updated_features], train_data[target_dining])\n",
    "predictions_dining_updated = model_dining_updated.predict(test_data[updated_features])\n",
    "\n",
    "model_spa_updated = LinearRegression()\n",
    "model_spa_updated.fit(train_data[updated_features], train_data[target_spa])\n",
    "predictions_spa_updated = model_spa_updated.predict(test_data[updated_features])\n",
    "\n",
    "model_rooms_updated = LinearRegression()\n",
    "model_rooms_updated.fit(train_data[updated_features], train_data[target_rooms])\n",
    "predictions_rooms_updated = model_rooms_updated.predict(test_data[updated_features])\n",
    "\n",
    "total_predicted_spending_updated = predictions_dining_updated + predictions_spa_updated + predictions_rooms_updated\n",
    "\n",
    "rmse_total_updated = sqrt(mean_squared_error(test_data[target_total_spending], total_predicted_spending_updated))\n",
    "rmse_total_updated_rounded = round(rmse_total_updated)\n",
    "rmse_total_updated_rounded\n"
   ]
  },
  {
   "cell_type": "code",
   "execution_count": 18,
   "metadata": {},
   "outputs": [
    {
     "data": {
      "text/plain": [
       "('Segment 2', 182)"
      ]
     },
     "execution_count": 18,
     "metadata": {},
     "output_type": "execute_result"
    }
   ],
   "source": [
    "segment_1_features['Age_squared'] = segment_1_features['Age'] ** 2\n",
    "segment_1_features['Income_squared'] = segment_1_features['Income'] ** 2\n",
    "\n",
    "segment_2_features['Age_squared'] = segment_2_features['Age'] ** 2\n",
    "segment_2_features['Income_squared'] = segment_2_features['Income'] ** 2\n",
    "\n",
    "segment_3_features['Age_squared'] = segment_3_features['Age'] ** 2\n",
    "segment_3_features['Income_squared'] = segment_3_features['Income'] ** 2\n",
    "\n",
    "\n",
    "predicted_dining_1_updated = model_dining_updated.predict(segment_1_features)[0]\n",
    "predicted_spa_1_updated = model_spa_updated.predict(segment_1_features)[0]\n",
    "predicted_rooms_1_updated = model_rooms_updated.predict(segment_1_features)[0]\n",
    "profit_segment_1_updated = (\n",
    "    predicted_dining_1_updated * profit_margin_dining + \n",
    "    predicted_spa_1_updated * profit_margin_spa + \n",
    "    predicted_rooms_1_updated * profit_margin_rooms\n",
    ")\n",
    "net_profit_segment_1_updated = profit_segment_1_updated - targeting_costs[\"Segment 1\"]\n",
    "\n",
    "predicted_dining_2_updated = model_dining_updated.predict(segment_2_features)[0]\n",
    "predicted_spa_2_updated = model_spa_updated.predict(segment_2_features)[0]\n",
    "predicted_rooms_2_updated = model_rooms_updated.predict(segment_2_features)[0]\n",
    "profit_segment_2_updated = (\n",
    "    predicted_dining_2_updated * profit_margin_dining + \n",
    "    predicted_spa_2_updated * profit_margin_spa + \n",
    "    predicted_rooms_2_updated * profit_margin_rooms\n",
    ")\n",
    "net_profit_segment_2_updated = profit_segment_2_updated - targeting_costs[\"Segment 2\"]\n",
    "\n",
    "predicted_dining_3_updated = model_dining_updated.predict(segment_3_features)[0]\n",
    "predicted_spa_3_updated = model_spa_updated.predict(segment_3_features)[0]\n",
    "predicted_rooms_3_updated = model_rooms_updated.predict(segment_3_features)[0]\n",
    "profit_segment_3_updated = (\n",
    "    predicted_dining_3_updated * profit_margin_dining + \n",
    "    predicted_spa_3_updated * profit_margin_spa + \n",
    "    predicted_rooms_3_updated * profit_margin_rooms\n",
    ")\n",
    "net_profit_segment_3_updated = profit_segment_3_updated - targeting_costs[\"Segment 3\"]\n",
    "\n",
    "optimal_segment_updated, net_profit_optimal_updated = max(\n",
    "    (\"Segment 1\", net_profit_segment_1_updated),\n",
    "    (\"Segment 2\", net_profit_segment_2_updated),\n",
    "    (\"Segment 3\", net_profit_segment_3_updated),\n",
    "    key=lambda segment: segment[1]\n",
    ")\n",
    "\n",
    "optimal_segment_updated, round(net_profit_optimal_updated)\n"
   ]
  }
 ],
 "metadata": {
  "kernelspec": {
   "display_name": "base",
   "language": "python",
   "name": "python3"
  },
  "language_info": {
   "codemirror_mode": {
    "name": "ipython",
    "version": 3
   },
   "file_extension": ".py",
   "mimetype": "text/x-python",
   "name": "python",
   "nbconvert_exporter": "python",
   "pygments_lexer": "ipython3",
   "version": "3.11.5"
  }
 },
 "nbformat": 4,
 "nbformat_minor": 2
}
